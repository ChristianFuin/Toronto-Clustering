{
 "cells": [
  {
   "cell_type": "code",
   "execution_count": 1,
   "metadata": {},
   "outputs": [],
   "source": [
    "import pandas as pd\n",
    "import numpy as np\n",
    "import folium\n",
    "import requests\n",
    "from sklearn.preprocessing import StandardScaler\n",
    "from sklearn.cluster import KMeans\n",
    "import matplotlib.pyplot as plt"
   ]
  },
  {
   "cell_type": "code",
   "execution_count": 44,
   "metadata": {},
   "outputs": [],
   "source": [
    "!pip install lxml --quiet\n",
    "!pip install folium --quiet"
   ]
  },
  {
   "cell_type": "code",
   "execution_count": 40,
   "metadata": {},
   "outputs": [],
   "source": [
    "CLIENT_ID = 'MY_CLIENT_ID'\n",
    "CLIENT_SECRET = 'MY_CLIENT_SECRET'\n",
    "VERSION = '20180323'\n",
    "\n",
    "\n",
    "#This is the most important funcion, it makes a call to the api using the latitude, longitude, e category id of the venues,\n",
    "#and return a list of tuples with total amount by category.\n",
    "def get_total_venues(lat,lng,categories):\n",
    "\n",
    "    total = []\n",
    "    RADIUS = 500\n",
    "    LIMIT = 100\n",
    "\n",
    "    for c in categories:\n",
    "        url = 'https://api.foursquare.com/v2/venues/search?&client_id={}&client_secret={}&v={}&categoryId={}&ll={},{}&radius={}&limit={}'.format(\n",
    "            CLIENT_ID, \n",
    "            CLIENT_SECRET, \n",
    "            VERSION,\n",
    "            c[1],\n",
    "            lat, \n",
    "            lng, \n",
    "            RADIUS, \n",
    "            LIMIT)\n",
    "\n",
    "        results = requests.get(url).json()['response']\n",
    "        if len(results) > 0:\n",
    "            total.append((c[0],len(results['venues'])))\n",
    "    return total       \n",
    "\n",
    "#This function makes a premium call to the foursquare API and get a JSON with the categories of the venues.\n",
    "def get_categories():\n",
    "\n",
    "    categories = []\n",
    "    url = 'https://api.foursquare.com/v2/venues/categories?&client_id={}&client_secret={}'.format(CLIENT_ID,CLIENT_SECRET,VERSION)\n",
    "    result = requests.get(url).json()['response']\n",
    "    for c in result['categories']:\n",
    "        categories.append((c['name'],c['id']))\n",
    "    \n",
    "    return categories\n",
    "\n",
    "#Function to fill out the dataframe with the total venues by category\n",
    "def fill_categories(dataframe):\n",
    "    for index, row in dataframe.iterrows():\n",
    "        venues = get_total_venues(row['Latitude'],row['Longitude'],categories)\n",
    "        for c in venues:\n",
    "            dataframe.loc[index,c[0]] = c[1] \n",
    "    return dataframe           "
   ]
  },
  {
   "cell_type": "markdown",
   "metadata": {},
   "source": [
    "<h3>Getting the data</h3>\n",
    "<p>Pulling out the data from the wikipedia article URL and transforming it into a pandas dataframe.</p>"
   ]
  },
  {
   "cell_type": "code",
   "execution_count": 3,
   "metadata": {},
   "outputs": [],
   "source": [
    "url = 'https://en.wikipedia.org/wiki/List_of_postal_codes_of_Canada:_M'"
   ]
  },
  {
   "cell_type": "code",
   "execution_count": 4,
   "metadata": {},
   "outputs": [],
   "source": [
    "toronto = pd.read_html(url)[0]"
   ]
  },
  {
   "cell_type": "markdown",
   "metadata": {},
   "source": [
    "<h3>Cleaning the data</h3>\n",
    "<p>Checking out if there's any Borough with no neighborhood assigned, the rule is if there's no neighborhood assigned but theres a Borough the neighborhood is the same as the borough. In this case we got 0. </p>"
   ]
  },
  {
   "cell_type": "code",
   "execution_count": 5,
   "metadata": {},
   "outputs": [
    {
     "data": {
      "text/plain": [
       "Postal Code     0\n",
       "Borough         0\n",
       "Neighborhood    0\n",
       "dtype: int64"
      ]
     },
     "execution_count": 5,
     "metadata": {},
     "output_type": "execute_result"
    }
   ],
   "source": [
    "toronto[(toronto['Neighborhood'] == 'Not assigned') & (toronto['Borough'] != 'Not assigned') ].count()"
   ]
  },
  {
   "cell_type": "code",
   "execution_count": 6,
   "metadata": {},
   "outputs": [],
   "source": [
    "#Replace all 'Not assigned' rows with NAN\n",
    "toronto.replace('Not assigned',np.nan, inplace=True)"
   ]
  },
  {
   "cell_type": "code",
   "execution_count": 7,
   "metadata": {},
   "outputs": [],
   "source": [
    "#Drop the NAN rows and reset the index\n",
    "toronto = toronto.dropna().reset_index(drop=True)"
   ]
  },
  {
   "cell_type": "code",
   "execution_count": 379,
   "metadata": {},
   "outputs": [
    {
     "data": {
      "text/html": [
       "<div>\n",
       "<style scoped>\n",
       "    .dataframe tbody tr th:only-of-type {\n",
       "        vertical-align: middle;\n",
       "    }\n",
       "\n",
       "    .dataframe tbody tr th {\n",
       "        vertical-align: top;\n",
       "    }\n",
       "\n",
       "    .dataframe thead th {\n",
       "        text-align: right;\n",
       "    }\n",
       "</style>\n",
       "<table border=\"1\" class=\"dataframe\">\n",
       "  <thead>\n",
       "    <tr style=\"text-align: right;\">\n",
       "      <th></th>\n",
       "      <th>Postal Code</th>\n",
       "      <th>Borough</th>\n",
       "      <th>Neighborhood</th>\n",
       "    </tr>\n",
       "  </thead>\n",
       "  <tbody>\n",
       "    <tr>\n",
       "      <th>0</th>\n",
       "      <td>M3A</td>\n",
       "      <td>North York</td>\n",
       "      <td>Parkwoods</td>\n",
       "    </tr>\n",
       "    <tr>\n",
       "      <th>1</th>\n",
       "      <td>M4A</td>\n",
       "      <td>North York</td>\n",
       "      <td>Victoria Village</td>\n",
       "    </tr>\n",
       "    <tr>\n",
       "      <th>2</th>\n",
       "      <td>M5A</td>\n",
       "      <td>Downtown Toronto</td>\n",
       "      <td>Regent Park, Harbourfront</td>\n",
       "    </tr>\n",
       "    <tr>\n",
       "      <th>3</th>\n",
       "      <td>M6A</td>\n",
       "      <td>North York</td>\n",
       "      <td>Lawrence Manor, Lawrence Heights</td>\n",
       "    </tr>\n",
       "    <tr>\n",
       "      <th>4</th>\n",
       "      <td>M7A</td>\n",
       "      <td>Downtown Toronto</td>\n",
       "      <td>Queen's Park, Ontario Provincial Government</td>\n",
       "    </tr>\n",
       "  </tbody>\n",
       "</table>\n",
       "</div>"
      ],
      "text/plain": [
       "  Postal Code           Borough                                 Neighborhood\n",
       "0         M3A        North York                                    Parkwoods\n",
       "1         M4A        North York                             Victoria Village\n",
       "2         M5A  Downtown Toronto                    Regent Park, Harbourfront\n",
       "3         M6A        North York             Lawrence Manor, Lawrence Heights\n",
       "4         M7A  Downtown Toronto  Queen's Park, Ontario Provincial Government"
      ]
     },
     "execution_count": 379,
     "metadata": {},
     "output_type": "execute_result"
    }
   ],
   "source": [
    "toronto.head()"
   ]
  },
  {
   "cell_type": "code",
   "execution_count": 380,
   "metadata": {},
   "outputs": [
    {
     "data": {
      "text/plain": [
       "(103, 3)"
      ]
     },
     "execution_count": 380,
     "metadata": {},
     "output_type": "execute_result"
    }
   ],
   "source": [
    "toronto.shape"
   ]
  },
  {
   "cell_type": "markdown",
   "metadata": {},
   "source": [
    "<h3>Merging datasets </h3>\n",
    "<p>At this point we need all the coordinates for the postal codes, we merge the 2 datasets together on the postal code column. </p>"
   ]
  },
  {
   "cell_type": "code",
   "execution_count": 8,
   "metadata": {},
   "outputs": [],
   "source": [
    "coordinates = pd.read_csv('https://cocl.us/Geospatial_data')"
   ]
  },
  {
   "cell_type": "code",
   "execution_count": 9,
   "metadata": {},
   "outputs": [
    {
     "data": {
      "text/html": [
       "<div>\n",
       "<style scoped>\n",
       "    .dataframe tbody tr th:only-of-type {\n",
       "        vertical-align: middle;\n",
       "    }\n",
       "\n",
       "    .dataframe tbody tr th {\n",
       "        vertical-align: top;\n",
       "    }\n",
       "\n",
       "    .dataframe thead th {\n",
       "        text-align: right;\n",
       "    }\n",
       "</style>\n",
       "<table border=\"1\" class=\"dataframe\">\n",
       "  <thead>\n",
       "    <tr style=\"text-align: right;\">\n",
       "      <th></th>\n",
       "      <th>Postal Code</th>\n",
       "      <th>Latitude</th>\n",
       "      <th>Longitude</th>\n",
       "    </tr>\n",
       "  </thead>\n",
       "  <tbody>\n",
       "    <tr>\n",
       "      <th>0</th>\n",
       "      <td>M1B</td>\n",
       "      <td>43.806686</td>\n",
       "      <td>-79.194353</td>\n",
       "    </tr>\n",
       "    <tr>\n",
       "      <th>1</th>\n",
       "      <td>M1C</td>\n",
       "      <td>43.784535</td>\n",
       "      <td>-79.160497</td>\n",
       "    </tr>\n",
       "    <tr>\n",
       "      <th>2</th>\n",
       "      <td>M1E</td>\n",
       "      <td>43.763573</td>\n",
       "      <td>-79.188711</td>\n",
       "    </tr>\n",
       "    <tr>\n",
       "      <th>3</th>\n",
       "      <td>M1G</td>\n",
       "      <td>43.770992</td>\n",
       "      <td>-79.216917</td>\n",
       "    </tr>\n",
       "    <tr>\n",
       "      <th>4</th>\n",
       "      <td>M1H</td>\n",
       "      <td>43.773136</td>\n",
       "      <td>-79.239476</td>\n",
       "    </tr>\n",
       "  </tbody>\n",
       "</table>\n",
       "</div>"
      ],
      "text/plain": [
       "  Postal Code   Latitude  Longitude\n",
       "0         M1B  43.806686 -79.194353\n",
       "1         M1C  43.784535 -79.160497\n",
       "2         M1E  43.763573 -79.188711\n",
       "3         M1G  43.770992 -79.216917\n",
       "4         M1H  43.773136 -79.239476"
      ]
     },
     "execution_count": 9,
     "metadata": {},
     "output_type": "execute_result"
    }
   ],
   "source": [
    "coordinates.head()"
   ]
  },
  {
   "cell_type": "code",
   "execution_count": 9,
   "metadata": {},
   "outputs": [],
   "source": [
    "toronto = pd.merge(toronto,coordinates,on='Postal Code')"
   ]
  },
  {
   "cell_type": "code",
   "execution_count": 384,
   "metadata": {},
   "outputs": [
    {
     "data": {
      "text/html": [
       "<div>\n",
       "<style scoped>\n",
       "    .dataframe tbody tr th:only-of-type {\n",
       "        vertical-align: middle;\n",
       "    }\n",
       "\n",
       "    .dataframe tbody tr th {\n",
       "        vertical-align: top;\n",
       "    }\n",
       "\n",
       "    .dataframe thead th {\n",
       "        text-align: right;\n",
       "    }\n",
       "</style>\n",
       "<table border=\"1\" class=\"dataframe\">\n",
       "  <thead>\n",
       "    <tr style=\"text-align: right;\">\n",
       "      <th></th>\n",
       "      <th>Postal Code</th>\n",
       "      <th>Borough</th>\n",
       "      <th>Neighborhood</th>\n",
       "      <th>Latitude</th>\n",
       "      <th>Longitude</th>\n",
       "    </tr>\n",
       "  </thead>\n",
       "  <tbody>\n",
       "    <tr>\n",
       "      <th>0</th>\n",
       "      <td>M3A</td>\n",
       "      <td>North York</td>\n",
       "      <td>Parkwoods</td>\n",
       "      <td>43.753259</td>\n",
       "      <td>-79.329656</td>\n",
       "    </tr>\n",
       "    <tr>\n",
       "      <th>1</th>\n",
       "      <td>M4A</td>\n",
       "      <td>North York</td>\n",
       "      <td>Victoria Village</td>\n",
       "      <td>43.725882</td>\n",
       "      <td>-79.315572</td>\n",
       "    </tr>\n",
       "    <tr>\n",
       "      <th>2</th>\n",
       "      <td>M5A</td>\n",
       "      <td>Downtown Toronto</td>\n",
       "      <td>Regent Park, Harbourfront</td>\n",
       "      <td>43.654260</td>\n",
       "      <td>-79.360636</td>\n",
       "    </tr>\n",
       "    <tr>\n",
       "      <th>3</th>\n",
       "      <td>M6A</td>\n",
       "      <td>North York</td>\n",
       "      <td>Lawrence Manor, Lawrence Heights</td>\n",
       "      <td>43.718518</td>\n",
       "      <td>-79.464763</td>\n",
       "    </tr>\n",
       "    <tr>\n",
       "      <th>4</th>\n",
       "      <td>M7A</td>\n",
       "      <td>Downtown Toronto</td>\n",
       "      <td>Queen's Park, Ontario Provincial Government</td>\n",
       "      <td>43.662301</td>\n",
       "      <td>-79.389494</td>\n",
       "    </tr>\n",
       "  </tbody>\n",
       "</table>\n",
       "</div>"
      ],
      "text/plain": [
       "  Postal Code           Borough                                 Neighborhood  \\\n",
       "0         M3A        North York                                    Parkwoods   \n",
       "1         M4A        North York                             Victoria Village   \n",
       "2         M5A  Downtown Toronto                    Regent Park, Harbourfront   \n",
       "3         M6A        North York             Lawrence Manor, Lawrence Heights   \n",
       "4         M7A  Downtown Toronto  Queen's Park, Ontario Provincial Government   \n",
       "\n",
       "    Latitude  Longitude  \n",
       "0  43.753259 -79.329656  \n",
       "1  43.725882 -79.315572  \n",
       "2  43.654260 -79.360636  \n",
       "3  43.718518 -79.464763  \n",
       "4  43.662301 -79.389494  "
      ]
     },
     "execution_count": 384,
     "metadata": {},
     "output_type": "execute_result"
    }
   ],
   "source": [
    "toronto.head()"
   ]
  },
  {
   "cell_type": "markdown",
   "metadata": {},
   "source": [
    "<h3>Visualizing The data</h3>\n",
    "<p>Let's now create a map of the city of Toronto to better understand where its boroughs are located </p>"
   ]
  },
  {
   "cell_type": "code",
   "execution_count": 10,
   "metadata": {},
   "outputs": [
    {
     "data": {
      "text/html": [
       "<div style=\"width:100%;\"><div style=\"position:relative;width:100%;height:0;padding-bottom:60%;\"><span style=\"color:#565656\">Make this Notebook Trusted to load map: File -> Trust Notebook</span><iframe src=\"about:blank\" style=\"position:absolute;width:100%;height:100%;left:0;top:0;border:none !important;\" data-html=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 onload=\"this.contentDocument.open();this.contentDocument.write(atob(this.getAttribute('data-html')));this.contentDocument.close();\" allowfullscreen webkitallowfullscreen mozallowfullscreen></iframe></div></div>"
      ],
      "text/plain": [
       "<folium.folium.Map at 0x7fbc342b1fd0>"
      ]
     },
     "execution_count": 10,
     "metadata": {},
     "output_type": "execute_result"
    }
   ],
   "source": [
    "toro_map = folium.Map(location=[43.71,-79.51], zoom_start = 11) \n",
    "toro_map"
   ]
  },
  {
   "cell_type": "code",
   "execution_count": 41,
   "metadata": {},
   "outputs": [
    {
     "data": {
      "text/html": [
       "<div>\n",
       "<style scoped>\n",
       "    .dataframe tbody tr th:only-of-type {\n",
       "        vertical-align: middle;\n",
       "    }\n",
       "\n",
       "    .dataframe tbody tr th {\n",
       "        vertical-align: top;\n",
       "    }\n",
       "\n",
       "    .dataframe thead th {\n",
       "        text-align: right;\n",
       "    }\n",
       "</style>\n",
       "<table border=\"1\" class=\"dataframe\">\n",
       "  <thead>\n",
       "    <tr style=\"text-align: right;\">\n",
       "      <th></th>\n",
       "      <th>Borough</th>\n",
       "      <th>Latitude</th>\n",
       "      <th>Longitude</th>\n",
       "      <th>Arts &amp; Entertainment</th>\n",
       "      <th>College &amp; University</th>\n",
       "      <th>Event</th>\n",
       "      <th>Food</th>\n",
       "      <th>Nightlife Spot</th>\n",
       "      <th>Outdoors &amp; Recreation</th>\n",
       "      <th>Professional &amp; Other Places</th>\n",
       "      <th>Residence</th>\n",
       "      <th>Shop &amp; Service</th>\n",
       "      <th>Travel &amp; Transport</th>\n",
       "    </tr>\n",
       "  </thead>\n",
       "  <tbody>\n",
       "    <tr>\n",
       "      <th>0</th>\n",
       "      <td>Central Toronto</td>\n",
       "      <td>43.701980</td>\n",
       "      <td>-79.398954</td>\n",
       "      <td>0</td>\n",
       "      <td>0</td>\n",
       "      <td>0</td>\n",
       "      <td>0</td>\n",
       "      <td>0</td>\n",
       "      <td>0</td>\n",
       "      <td>0</td>\n",
       "      <td>0</td>\n",
       "      <td>0</td>\n",
       "      <td>0</td>\n",
       "    </tr>\n",
       "    <tr>\n",
       "      <th>1</th>\n",
       "      <td>Downtown Toronto</td>\n",
       "      <td>43.654597</td>\n",
       "      <td>-79.383972</td>\n",
       "      <td>0</td>\n",
       "      <td>0</td>\n",
       "      <td>0</td>\n",
       "      <td>0</td>\n",
       "      <td>0</td>\n",
       "      <td>0</td>\n",
       "      <td>0</td>\n",
       "      <td>0</td>\n",
       "      <td>0</td>\n",
       "      <td>0</td>\n",
       "    </tr>\n",
       "    <tr>\n",
       "      <th>2</th>\n",
       "      <td>East Toronto</td>\n",
       "      <td>43.669436</td>\n",
       "      <td>-79.324654</td>\n",
       "      <td>0</td>\n",
       "      <td>0</td>\n",
       "      <td>0</td>\n",
       "      <td>0</td>\n",
       "      <td>0</td>\n",
       "      <td>0</td>\n",
       "      <td>0</td>\n",
       "      <td>0</td>\n",
       "      <td>0</td>\n",
       "      <td>0</td>\n",
       "    </tr>\n",
       "    <tr>\n",
       "      <th>3</th>\n",
       "      <td>East York</td>\n",
       "      <td>43.700303</td>\n",
       "      <td>-79.335851</td>\n",
       "      <td>0</td>\n",
       "      <td>0</td>\n",
       "      <td>0</td>\n",
       "      <td>0</td>\n",
       "      <td>0</td>\n",
       "      <td>0</td>\n",
       "      <td>0</td>\n",
       "      <td>0</td>\n",
       "      <td>0</td>\n",
       "      <td>0</td>\n",
       "    </tr>\n",
       "    <tr>\n",
       "      <th>4</th>\n",
       "      <td>Etobicoke</td>\n",
       "      <td>43.660043</td>\n",
       "      <td>-79.542074</td>\n",
       "      <td>0</td>\n",
       "      <td>0</td>\n",
       "      <td>0</td>\n",
       "      <td>0</td>\n",
       "      <td>0</td>\n",
       "      <td>0</td>\n",
       "      <td>0</td>\n",
       "      <td>0</td>\n",
       "      <td>0</td>\n",
       "      <td>0</td>\n",
       "    </tr>\n",
       "    <tr>\n",
       "      <th>5</th>\n",
       "      <td>Mississauga</td>\n",
       "      <td>43.636966</td>\n",
       "      <td>-79.615819</td>\n",
       "      <td>0</td>\n",
       "      <td>0</td>\n",
       "      <td>0</td>\n",
       "      <td>0</td>\n",
       "      <td>0</td>\n",
       "      <td>0</td>\n",
       "      <td>0</td>\n",
       "      <td>0</td>\n",
       "      <td>0</td>\n",
       "      <td>0</td>\n",
       "    </tr>\n",
       "    <tr>\n",
       "      <th>6</th>\n",
       "      <td>North York</td>\n",
       "      <td>43.750727</td>\n",
       "      <td>-79.429338</td>\n",
       "      <td>0</td>\n",
       "      <td>0</td>\n",
       "      <td>0</td>\n",
       "      <td>0</td>\n",
       "      <td>0</td>\n",
       "      <td>0</td>\n",
       "      <td>0</td>\n",
       "      <td>0</td>\n",
       "      <td>0</td>\n",
       "      <td>0</td>\n",
       "    </tr>\n",
       "    <tr>\n",
       "      <th>7</th>\n",
       "      <td>Scarborough</td>\n",
       "      <td>43.766229</td>\n",
       "      <td>-79.249085</td>\n",
       "      <td>0</td>\n",
       "      <td>0</td>\n",
       "      <td>0</td>\n",
       "      <td>0</td>\n",
       "      <td>0</td>\n",
       "      <td>0</td>\n",
       "      <td>0</td>\n",
       "      <td>0</td>\n",
       "      <td>0</td>\n",
       "      <td>0</td>\n",
       "    </tr>\n",
       "    <tr>\n",
       "      <th>8</th>\n",
       "      <td>West Toronto</td>\n",
       "      <td>43.652653</td>\n",
       "      <td>-79.449290</td>\n",
       "      <td>0</td>\n",
       "      <td>0</td>\n",
       "      <td>0</td>\n",
       "      <td>0</td>\n",
       "      <td>0</td>\n",
       "      <td>0</td>\n",
       "      <td>0</td>\n",
       "      <td>0</td>\n",
       "      <td>0</td>\n",
       "      <td>0</td>\n",
       "    </tr>\n",
       "    <tr>\n",
       "      <th>9</th>\n",
       "      <td>York</td>\n",
       "      <td>43.690797</td>\n",
       "      <td>-79.472633</td>\n",
       "      <td>0</td>\n",
       "      <td>0</td>\n",
       "      <td>0</td>\n",
       "      <td>0</td>\n",
       "      <td>0</td>\n",
       "      <td>0</td>\n",
       "      <td>0</td>\n",
       "      <td>0</td>\n",
       "      <td>0</td>\n",
       "      <td>0</td>\n",
       "    </tr>\n",
       "  </tbody>\n",
       "</table>\n",
       "</div>"
      ],
      "text/plain": [
       "            Borough   Latitude  Longitude  Arts & Entertainment  \\\n",
       "0   Central Toronto  43.701980 -79.398954                     0   \n",
       "1  Downtown Toronto  43.654597 -79.383972                     0   \n",
       "2      East Toronto  43.669436 -79.324654                     0   \n",
       "3         East York  43.700303 -79.335851                     0   \n",
       "4         Etobicoke  43.660043 -79.542074                     0   \n",
       "5       Mississauga  43.636966 -79.615819                     0   \n",
       "6        North York  43.750727 -79.429338                     0   \n",
       "7       Scarborough  43.766229 -79.249085                     0   \n",
       "8      West Toronto  43.652653 -79.449290                     0   \n",
       "9              York  43.690797 -79.472633                     0   \n",
       "\n",
       "   College & University  Event  Food  Nightlife Spot  Outdoors & Recreation  \\\n",
       "0                     0      0     0               0                      0   \n",
       "1                     0      0     0               0                      0   \n",
       "2                     0      0     0               0                      0   \n",
       "3                     0      0     0               0                      0   \n",
       "4                     0      0     0               0                      0   \n",
       "5                     0      0     0               0                      0   \n",
       "6                     0      0     0               0                      0   \n",
       "7                     0      0     0               0                      0   \n",
       "8                     0      0     0               0                      0   \n",
       "9                     0      0     0               0                      0   \n",
       "\n",
       "   Professional & Other Places  Residence  Shop & Service  Travel & Transport  \n",
       "0                            0          0               0                   0  \n",
       "1                            0          0               0                   0  \n",
       "2                            0          0               0                   0  \n",
       "3                            0          0               0                   0  \n",
       "4                            0          0               0                   0  \n",
       "5                            0          0               0                   0  \n",
       "6                            0          0               0                   0  \n",
       "7                            0          0               0                   0  \n",
       "8                            0          0               0                   0  \n",
       "9                            0          0               0                   0  "
      ]
     },
     "execution_count": 41,
     "metadata": {},
     "output_type": "execute_result"
    }
   ],
   "source": [
    "#Group by boroughs and get the mean values of latitude and longitude\n",
    "boroughs = toronto.groupby('Borough').mean().reset_index()\n",
    "boroughs"
   ]
  },
  {
   "cell_type": "code",
   "execution_count": 12,
   "metadata": {},
   "outputs": [],
   "source": [
    "#Now we create a marker for each borough to better visualize where tey are located.\n",
    "for label,lat,long in zip(boroughs['Borough'],boroughs['Latitude'],boroughs['Longitude']):\n",
    "    folium.Marker(location=[lat,long], popup=label).add_to(toro_map)"
   ]
  },
  {
   "cell_type": "code",
   "execution_count": 13,
   "metadata": {},
   "outputs": [
    {
     "data": {
      "text/html": [
       "<div style=\"width:100%;\"><div style=\"position:relative;width:100%;height:0;padding-bottom:60%;\"><span style=\"color:#565656\">Make this Notebook Trusted to load map: File -> Trust Notebook</span><iframe src=\"about:blank\" style=\"position:absolute;width:100%;height:100%;left:0;top:0;border:none !important;\" data-html=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 onload=\"this.contentDocument.open();this.contentDocument.write(atob(this.getAttribute('data-html')));this.contentDocument.close();\" allowfullscreen webkitallowfullscreen mozallowfullscreen></iframe></div></div>"
      ],
      "text/plain": [
       "<folium.folium.Map at 0x7fbc342b1fd0>"
      ]
     },
     "execution_count": 13,
     "metadata": {},
     "output_type": "execute_result"
    }
   ],
   "source": [
    "toro_map"
   ]
  },
  {
   "cell_type": "code",
   "execution_count": 39,
   "metadata": {},
   "outputs": [],
   "source": [
    "#Use the function get_categories to get all the categories\n",
    "categories = get_categories()"
   ]
  },
  {
   "cell_type": "code",
   "execution_count": 15,
   "metadata": {},
   "outputs": [],
   "source": [
    "#Add the categories columns to the dataset\n",
    "for c in categories:\n",
    "    toronto[c[0]] = 0"
   ]
  },
  {
   "cell_type": "code",
   "execution_count": 21,
   "metadata": {},
   "outputs": [
    {
     "data": {
      "text/html": [
       "<div>\n",
       "<style scoped>\n",
       "    .dataframe tbody tr th:only-of-type {\n",
       "        vertical-align: middle;\n",
       "    }\n",
       "\n",
       "    .dataframe tbody tr th {\n",
       "        vertical-align: top;\n",
       "    }\n",
       "\n",
       "    .dataframe thead th {\n",
       "        text-align: right;\n",
       "    }\n",
       "</style>\n",
       "<table border=\"1\" class=\"dataframe\">\n",
       "  <thead>\n",
       "    <tr style=\"text-align: right;\">\n",
       "      <th></th>\n",
       "      <th>Postal Code</th>\n",
       "      <th>Borough</th>\n",
       "      <th>Neighborhood</th>\n",
       "      <th>Latitude</th>\n",
       "      <th>Longitude</th>\n",
       "      <th>Arts &amp; Entertainment</th>\n",
       "      <th>College &amp; University</th>\n",
       "      <th>Event</th>\n",
       "      <th>Food</th>\n",
       "      <th>Nightlife Spot</th>\n",
       "      <th>Outdoors &amp; Recreation</th>\n",
       "      <th>Professional &amp; Other Places</th>\n",
       "      <th>Residence</th>\n",
       "      <th>Shop &amp; Service</th>\n",
       "      <th>Travel &amp; Transport</th>\n",
       "    </tr>\n",
       "  </thead>\n",
       "  <tbody>\n",
       "    <tr>\n",
       "      <th>0</th>\n",
       "      <td>M3A</td>\n",
       "      <td>North York</td>\n",
       "      <td>Parkwoods</td>\n",
       "      <td>43.753259</td>\n",
       "      <td>-79.329656</td>\n",
       "      <td>0</td>\n",
       "      <td>0</td>\n",
       "      <td>0</td>\n",
       "      <td>0</td>\n",
       "      <td>0</td>\n",
       "      <td>0</td>\n",
       "      <td>0</td>\n",
       "      <td>0</td>\n",
       "      <td>0</td>\n",
       "      <td>0</td>\n",
       "    </tr>\n",
       "    <tr>\n",
       "      <th>1</th>\n",
       "      <td>M4A</td>\n",
       "      <td>North York</td>\n",
       "      <td>Victoria Village</td>\n",
       "      <td>43.725882</td>\n",
       "      <td>-79.315572</td>\n",
       "      <td>0</td>\n",
       "      <td>0</td>\n",
       "      <td>0</td>\n",
       "      <td>0</td>\n",
       "      <td>0</td>\n",
       "      <td>0</td>\n",
       "      <td>0</td>\n",
       "      <td>0</td>\n",
       "      <td>0</td>\n",
       "      <td>0</td>\n",
       "    </tr>\n",
       "    <tr>\n",
       "      <th>2</th>\n",
       "      <td>M5A</td>\n",
       "      <td>Downtown Toronto</td>\n",
       "      <td>Regent Park, Harbourfront</td>\n",
       "      <td>43.654260</td>\n",
       "      <td>-79.360636</td>\n",
       "      <td>0</td>\n",
       "      <td>0</td>\n",
       "      <td>0</td>\n",
       "      <td>0</td>\n",
       "      <td>0</td>\n",
       "      <td>0</td>\n",
       "      <td>0</td>\n",
       "      <td>0</td>\n",
       "      <td>0</td>\n",
       "      <td>0</td>\n",
       "    </tr>\n",
       "    <tr>\n",
       "      <th>3</th>\n",
       "      <td>M6A</td>\n",
       "      <td>North York</td>\n",
       "      <td>Lawrence Manor, Lawrence Heights</td>\n",
       "      <td>43.718518</td>\n",
       "      <td>-79.464763</td>\n",
       "      <td>0</td>\n",
       "      <td>0</td>\n",
       "      <td>0</td>\n",
       "      <td>0</td>\n",
       "      <td>0</td>\n",
       "      <td>0</td>\n",
       "      <td>0</td>\n",
       "      <td>0</td>\n",
       "      <td>0</td>\n",
       "      <td>0</td>\n",
       "    </tr>\n",
       "    <tr>\n",
       "      <th>4</th>\n",
       "      <td>M7A</td>\n",
       "      <td>Downtown Toronto</td>\n",
       "      <td>Queen's Park, Ontario Provincial Government</td>\n",
       "      <td>43.662301</td>\n",
       "      <td>-79.389494</td>\n",
       "      <td>0</td>\n",
       "      <td>0</td>\n",
       "      <td>0</td>\n",
       "      <td>0</td>\n",
       "      <td>0</td>\n",
       "      <td>0</td>\n",
       "      <td>0</td>\n",
       "      <td>0</td>\n",
       "      <td>0</td>\n",
       "      <td>0</td>\n",
       "    </tr>\n",
       "  </tbody>\n",
       "</table>\n",
       "</div>"
      ],
      "text/plain": [
       "  Postal Code           Borough                                 Neighborhood  \\\n",
       "0         M3A        North York                                    Parkwoods   \n",
       "1         M4A        North York                             Victoria Village   \n",
       "2         M5A  Downtown Toronto                    Regent Park, Harbourfront   \n",
       "3         M6A        North York             Lawrence Manor, Lawrence Heights   \n",
       "4         M7A  Downtown Toronto  Queen's Park, Ontario Provincial Government   \n",
       "\n",
       "    Latitude  Longitude  Arts & Entertainment  College & University  Event  \\\n",
       "0  43.753259 -79.329656                     0                     0      0   \n",
       "1  43.725882 -79.315572                     0                     0      0   \n",
       "2  43.654260 -79.360636                     0                     0      0   \n",
       "3  43.718518 -79.464763                     0                     0      0   \n",
       "4  43.662301 -79.389494                     0                     0      0   \n",
       "\n",
       "   Food  Nightlife Spot  Outdoors & Recreation  Professional & Other Places  \\\n",
       "0     0               0                      0                            0   \n",
       "1     0               0                      0                            0   \n",
       "2     0               0                      0                            0   \n",
       "3     0               0                      0                            0   \n",
       "4     0               0                      0                            0   \n",
       "\n",
       "   Residence  Shop & Service  Travel & Transport  \n",
       "0          0               0                   0  \n",
       "1          0               0                   0  \n",
       "2          0               0                   0  \n",
       "3          0               0                   0  \n",
       "4          0               0                   0  "
      ]
     },
     "execution_count": 21,
     "metadata": {},
     "output_type": "execute_result"
    }
   ],
   "source": [
    "toronto.head()"
   ]
  },
  {
   "cell_type": "markdown",
   "metadata": {},
   "source": [
    "<h2>Filling the dataset</h2>\n",
    "<p>The main idea behind this project is to classify neighborhoods into cluster where they share similar characteristics</p></br>\n",
    "<p>The venues are separated in 10 main categories that best describe its business. Then we will fill out each category with the correspondent number of business in those categories for each neighborhood.</p>"
   ]
  },
  {
   "cell_type": "code",
   "execution_count": 22,
   "metadata": {},
   "outputs": [],
   "source": [
    "#Creates a copy of the toronto dataset, not to mess with the original one.\n",
    "toronto_filled = toronto.copy()"
   ]
  },
  {
   "cell_type": "code",
   "execution_count": 23,
   "metadata": {},
   "outputs": [],
   "source": [
    "#Calls the fill_categories function that makes a call for each neighborhood using latitude and longitutde, and fill out the dataset.\n",
    "toronto_filled = fill_categories()"
   ]
  },
  {
   "cell_type": "code",
   "execution_count": 24,
   "metadata": {},
   "outputs": [
    {
     "data": {
      "text/html": [
       "<div>\n",
       "<style scoped>\n",
       "    .dataframe tbody tr th:only-of-type {\n",
       "        vertical-align: middle;\n",
       "    }\n",
       "\n",
       "    .dataframe tbody tr th {\n",
       "        vertical-align: top;\n",
       "    }\n",
       "\n",
       "    .dataframe thead th {\n",
       "        text-align: right;\n",
       "    }\n",
       "</style>\n",
       "<table border=\"1\" class=\"dataframe\">\n",
       "  <thead>\n",
       "    <tr style=\"text-align: right;\">\n",
       "      <th></th>\n",
       "      <th>Postal Code</th>\n",
       "      <th>Borough</th>\n",
       "      <th>Neighborhood</th>\n",
       "      <th>Latitude</th>\n",
       "      <th>Longitude</th>\n",
       "      <th>Arts &amp; Entertainment</th>\n",
       "      <th>College &amp; University</th>\n",
       "      <th>Event</th>\n",
       "      <th>Food</th>\n",
       "      <th>Nightlife Spot</th>\n",
       "      <th>Outdoors &amp; Recreation</th>\n",
       "      <th>Professional &amp; Other Places</th>\n",
       "      <th>Residence</th>\n",
       "      <th>Shop &amp; Service</th>\n",
       "      <th>Travel &amp; Transport</th>\n",
       "    </tr>\n",
       "  </thead>\n",
       "  <tbody>\n",
       "    <tr>\n",
       "      <th>0</th>\n",
       "      <td>M3A</td>\n",
       "      <td>North York</td>\n",
       "      <td>Parkwoods</td>\n",
       "      <td>43.753259</td>\n",
       "      <td>-79.329656</td>\n",
       "      <td>0</td>\n",
       "      <td>1</td>\n",
       "      <td>0</td>\n",
       "      <td>1</td>\n",
       "      <td>0</td>\n",
       "      <td>4</td>\n",
       "      <td>9</td>\n",
       "      <td>4</td>\n",
       "      <td>4</td>\n",
       "      <td>4</td>\n",
       "    </tr>\n",
       "    <tr>\n",
       "      <th>1</th>\n",
       "      <td>M4A</td>\n",
       "      <td>North York</td>\n",
       "      <td>Victoria Village</td>\n",
       "      <td>43.725882</td>\n",
       "      <td>-79.315572</td>\n",
       "      <td>1</td>\n",
       "      <td>1</td>\n",
       "      <td>0</td>\n",
       "      <td>5</td>\n",
       "      <td>0</td>\n",
       "      <td>4</td>\n",
       "      <td>19</td>\n",
       "      <td>7</td>\n",
       "      <td>16</td>\n",
       "      <td>4</td>\n",
       "    </tr>\n",
       "    <tr>\n",
       "      <th>2</th>\n",
       "      <td>M5A</td>\n",
       "      <td>Downtown Toronto</td>\n",
       "      <td>Regent Park, Harbourfront</td>\n",
       "      <td>43.654260</td>\n",
       "      <td>-79.360636</td>\n",
       "      <td>49</td>\n",
       "      <td>8</td>\n",
       "      <td>4</td>\n",
       "      <td>49</td>\n",
       "      <td>28</td>\n",
       "      <td>46</td>\n",
       "      <td>45</td>\n",
       "      <td>37</td>\n",
       "      <td>40</td>\n",
       "      <td>32</td>\n",
       "    </tr>\n",
       "    <tr>\n",
       "      <th>3</th>\n",
       "      <td>M6A</td>\n",
       "      <td>North York</td>\n",
       "      <td>Lawrence Manor, Lawrence Heights</td>\n",
       "      <td>43.718518</td>\n",
       "      <td>-79.464763</td>\n",
       "      <td>5</td>\n",
       "      <td>1</td>\n",
       "      <td>0</td>\n",
       "      <td>13</td>\n",
       "      <td>2</td>\n",
       "      <td>6</td>\n",
       "      <td>28</td>\n",
       "      <td>0</td>\n",
       "      <td>40</td>\n",
       "      <td>1</td>\n",
       "    </tr>\n",
       "    <tr>\n",
       "      <th>4</th>\n",
       "      <td>M7A</td>\n",
       "      <td>Downtown Toronto</td>\n",
       "      <td>Queen's Park, Ontario Provincial Government</td>\n",
       "      <td>43.662301</td>\n",
       "      <td>-79.389494</td>\n",
       "      <td>46</td>\n",
       "      <td>48</td>\n",
       "      <td>0</td>\n",
       "      <td>50</td>\n",
       "      <td>42</td>\n",
       "      <td>45</td>\n",
       "      <td>49</td>\n",
       "      <td>48</td>\n",
       "      <td>42</td>\n",
       "      <td>34</td>\n",
       "    </tr>\n",
       "    <tr>\n",
       "      <th>5</th>\n",
       "      <td>M9A</td>\n",
       "      <td>Etobicoke</td>\n",
       "      <td>Islington Avenue, Humber Valley Village</td>\n",
       "      <td>43.667856</td>\n",
       "      <td>-79.532242</td>\n",
       "      <td>0</td>\n",
       "      <td>0</td>\n",
       "      <td>0</td>\n",
       "      <td>2</td>\n",
       "      <td>0</td>\n",
       "      <td>3</td>\n",
       "      <td>2</td>\n",
       "      <td>1</td>\n",
       "      <td>1</td>\n",
       "      <td>3</td>\n",
       "    </tr>\n",
       "    <tr>\n",
       "      <th>6</th>\n",
       "      <td>M1B</td>\n",
       "      <td>Scarborough</td>\n",
       "      <td>Malvern, Rouge</td>\n",
       "      <td>43.806686</td>\n",
       "      <td>-79.194353</td>\n",
       "      <td>0</td>\n",
       "      <td>0</td>\n",
       "      <td>0</td>\n",
       "      <td>3</td>\n",
       "      <td>0</td>\n",
       "      <td>3</td>\n",
       "      <td>20</td>\n",
       "      <td>0</td>\n",
       "      <td>12</td>\n",
       "      <td>0</td>\n",
       "    </tr>\n",
       "    <tr>\n",
       "      <th>7</th>\n",
       "      <td>M3B</td>\n",
       "      <td>North York</td>\n",
       "      <td>Don Mills</td>\n",
       "      <td>43.745906</td>\n",
       "      <td>-79.352188</td>\n",
       "      <td>3</td>\n",
       "      <td>6</td>\n",
       "      <td>0</td>\n",
       "      <td>10</td>\n",
       "      <td>1</td>\n",
       "      <td>12</td>\n",
       "      <td>45</td>\n",
       "      <td>0</td>\n",
       "      <td>9</td>\n",
       "      <td>1</td>\n",
       "    </tr>\n",
       "    <tr>\n",
       "      <th>8</th>\n",
       "      <td>M4B</td>\n",
       "      <td>East York</td>\n",
       "      <td>Parkview Hill, Woodbine Gardens</td>\n",
       "      <td>43.706397</td>\n",
       "      <td>-79.309937</td>\n",
       "      <td>2</td>\n",
       "      <td>0</td>\n",
       "      <td>0</td>\n",
       "      <td>23</td>\n",
       "      <td>4</td>\n",
       "      <td>5</td>\n",
       "      <td>19</td>\n",
       "      <td>2</td>\n",
       "      <td>29</td>\n",
       "      <td>6</td>\n",
       "    </tr>\n",
       "    <tr>\n",
       "      <th>9</th>\n",
       "      <td>M5B</td>\n",
       "      <td>Downtown Toronto</td>\n",
       "      <td>Garden District, Ryerson</td>\n",
       "      <td>43.657162</td>\n",
       "      <td>-79.378937</td>\n",
       "      <td>41</td>\n",
       "      <td>46</td>\n",
       "      <td>1</td>\n",
       "      <td>49</td>\n",
       "      <td>46</td>\n",
       "      <td>42</td>\n",
       "      <td>45</td>\n",
       "      <td>48</td>\n",
       "      <td>49</td>\n",
       "      <td>36</td>\n",
       "    </tr>\n",
       "  </tbody>\n",
       "</table>\n",
       "</div>"
      ],
      "text/plain": [
       "  Postal Code           Borough                                 Neighborhood  \\\n",
       "0         M3A        North York                                    Parkwoods   \n",
       "1         M4A        North York                             Victoria Village   \n",
       "2         M5A  Downtown Toronto                    Regent Park, Harbourfront   \n",
       "3         M6A        North York             Lawrence Manor, Lawrence Heights   \n",
       "4         M7A  Downtown Toronto  Queen's Park, Ontario Provincial Government   \n",
       "5         M9A         Etobicoke      Islington Avenue, Humber Valley Village   \n",
       "6         M1B       Scarborough                               Malvern, Rouge   \n",
       "7         M3B        North York                                    Don Mills   \n",
       "8         M4B         East York              Parkview Hill, Woodbine Gardens   \n",
       "9         M5B  Downtown Toronto                     Garden District, Ryerson   \n",
       "\n",
       "    Latitude  Longitude  Arts & Entertainment  College & University  Event  \\\n",
       "0  43.753259 -79.329656                     0                     1      0   \n",
       "1  43.725882 -79.315572                     1                     1      0   \n",
       "2  43.654260 -79.360636                    49                     8      4   \n",
       "3  43.718518 -79.464763                     5                     1      0   \n",
       "4  43.662301 -79.389494                    46                    48      0   \n",
       "5  43.667856 -79.532242                     0                     0      0   \n",
       "6  43.806686 -79.194353                     0                     0      0   \n",
       "7  43.745906 -79.352188                     3                     6      0   \n",
       "8  43.706397 -79.309937                     2                     0      0   \n",
       "9  43.657162 -79.378937                    41                    46      1   \n",
       "\n",
       "   Food  Nightlife Spot  Outdoors & Recreation  Professional & Other Places  \\\n",
       "0     1               0                      4                            9   \n",
       "1     5               0                      4                           19   \n",
       "2    49              28                     46                           45   \n",
       "3    13               2                      6                           28   \n",
       "4    50              42                     45                           49   \n",
       "5     2               0                      3                            2   \n",
       "6     3               0                      3                           20   \n",
       "7    10               1                     12                           45   \n",
       "8    23               4                      5                           19   \n",
       "9    49              46                     42                           45   \n",
       "\n",
       "   Residence  Shop & Service  Travel & Transport  \n",
       "0          4               4                   4  \n",
       "1          7              16                   4  \n",
       "2         37              40                  32  \n",
       "3          0              40                   1  \n",
       "4         48              42                  34  \n",
       "5          1               1                   3  \n",
       "6          0              12                   0  \n",
       "7          0               9                   1  \n",
       "8          2              29                   6  \n",
       "9         48              49                  36  "
      ]
     },
     "execution_count": 24,
     "metadata": {},
     "output_type": "execute_result"
    }
   ],
   "source": [
    "toronto_filled.head(10)"
   ]
  },
  {
   "cell_type": "markdown",
   "metadata": {},
   "source": [
    "<h2>Data Preprocessing</h2>\n",
    "<p>Now that we have all the dataset filled out we can preprocess the data to train the scientific model in order to do data analysis. We will also perform data normalization as number of venues in certain categories can vary significantly.</p>"
   ]
  },
  {
   "cell_type": "code",
   "execution_count": 25,
   "metadata": {},
   "outputs": [],
   "source": [
    "#Create a features dataset, dropping columns we won't need.\n",
    "features = toronto_filled.drop(columns=['Borough','Neighborhood','Postal Code'], axis=1)\n",
    "columns = []\n",
    "for c in categories:\n",
    "    columns.append(c[0])"
   ]
  },
  {
   "cell_type": "code",
   "execution_count": 26,
   "metadata": {},
   "outputs": [
    {
     "name": "stderr",
     "output_type": "stream",
     "text": [
      "/home/jupyterlab/conda/envs/python/lib/python3.6/site-packages/sklearn/preprocessing/data.py:625: DataConversionWarning: Data with input dtype int64 were all converted to float64 by StandardScaler.\n",
      "  return self.partial_fit(X, y)\n",
      "/home/jupyterlab/conda/envs/python/lib/python3.6/site-packages/sklearn/base.py:462: DataConversionWarning: Data with input dtype int64 were all converted to float64 by StandardScaler.\n",
      "  return self.fit(X, **fit_params).transform(X)\n"
     ]
    }
   ],
   "source": [
    "#Performs data normalization\n",
    "scaler = StandardScaler()\n",
    "X = scaler.fit_transform(features[columns])\n",
    "features[columns] = X"
   ]
  },
  {
   "cell_type": "markdown",
   "metadata": {},
   "source": [
    "<h2>Finding the optimum number of clusters</h2>\n",
    "<p>To find the ideal number of clusters the dataset fits in to we will use the elbow method to find the optimum N. In this case it's 3</p>"
   ]
  },
  {
   "cell_type": "code",
   "execution_count": 42,
   "metadata": {},
   "outputs": [],
   "source": [
    "#Calculates the inertia distance for each number of clusters ranging from 1 to 9\n",
    "errors = []\n",
    "for clu in range(1,10):\n",
    "    kmeans = KMeans(n_clusters=clu,init='k-means++')\n",
    "    kmeans.fit(features)\n",
    "    errors.append(kmeans.inertia_)"
   ]
  },
  {
   "cell_type": "code",
   "execution_count": 43,
   "metadata": {},
   "outputs": [
    {
     "data": {
      "text/plain": [
       "[<matplotlib.lines.Line2D at 0x7fbc30e25eb8>]"
      ]
     },
     "execution_count": 43,
     "metadata": {},
     "output_type": "execute_result"
    },
    {
     "data": {
      "image/png": "[encoded data removed]",
      "text/plain": [
       "<Figure size 432x288 with 1 Axes>"
      ]
     },
     "metadata": {
      "needs_background": "light"
     },
     "output_type": "display_data"
    }
   ],
   "source": [
    "#Lets visualize the plot to find the elbow! Clearly its 3\n",
    "plt.plot(range(1,10),errors)"
   ]
  },
  {
   "cell_type": "markdown",
   "metadata": {},
   "source": [
    "<h2>Clustering - K-MEANS Algorithm</h2>\n",
    "<p>For this study we will be using the K-MEANS algorithm to get our neighborhoods clustered.</p>"
   ]
  },
  {
   "cell_type": "code",
   "execution_count": 46,
   "metadata": {},
   "outputs": [
    {
     "data": {
      "text/plain": [
       "KMeans(algorithm='auto', copy_x=True, init='k-means++', max_iter=300,\n",
       "    n_clusters=3, n_init=10, n_jobs=None, precompute_distances='auto',\n",
       "    random_state=None, tol=0.0001, verbose=0)"
      ]
     },
     "execution_count": 46,
     "metadata": {},
     "output_type": "execute_result"
    }
   ],
   "source": [
    "#Creating a kmeans object with the opitmum hyperparameters. We fit the model with the features data.\n",
    "kmeans = KMeans(n_clusters=3,init='k-means++')\n",
    "kmeans.fit(features)"
   ]
  },
  {
   "cell_type": "code",
   "execution_count": 47,
   "metadata": {},
   "outputs": [],
   "source": [
    "#Creates a cluster column in our dataset and fill it out with the labels generated by our model.\n",
    "toronto_filled['cluster'] = kmeans.labels_"
   ]
  },
  {
   "cell_type": "markdown",
   "metadata": {},
   "source": [
    "<h2>Cluster Analysis</h2>\n",
    "<p>Lets see the mean of each cluster and what characteristics they have</p>"
   ]
  },
  {
   "cell_type": "code",
   "execution_count": 50,
   "metadata": {},
   "outputs": [
    {
     "data": {
      "text/html": [
       "<div>\n",
       "<style scoped>\n",
       "    .dataframe tbody tr th:only-of-type {\n",
       "        vertical-align: middle;\n",
       "    }\n",
       "\n",
       "    .dataframe tbody tr th {\n",
       "        vertical-align: top;\n",
       "    }\n",
       "\n",
       "    .dataframe thead th {\n",
       "        text-align: right;\n",
       "    }\n",
       "</style>\n",
       "<table border=\"1\" class=\"dataframe\">\n",
       "  <thead>\n",
       "    <tr style=\"text-align: right;\">\n",
       "      <th></th>\n",
       "      <th>Latitude</th>\n",
       "      <th>Longitude</th>\n",
       "      <th>Arts &amp; Entertainment</th>\n",
       "      <th>College &amp; University</th>\n",
       "      <th>Event</th>\n",
       "      <th>Food</th>\n",
       "      <th>Nightlife Spot</th>\n",
       "      <th>Outdoors &amp; Recreation</th>\n",
       "      <th>Professional &amp; Other Places</th>\n",
       "      <th>Residence</th>\n",
       "      <th>Shop &amp; Service</th>\n",
       "      <th>Travel &amp; Transport</th>\n",
       "    </tr>\n",
       "    <tr>\n",
       "      <th>cluster</th>\n",
       "      <th></th>\n",
       "      <th></th>\n",
       "      <th></th>\n",
       "      <th></th>\n",
       "      <th></th>\n",
       "      <th></th>\n",
       "      <th></th>\n",
       "      <th></th>\n",
       "      <th></th>\n",
       "      <th></th>\n",
       "      <th></th>\n",
       "      <th></th>\n",
       "    </tr>\n",
       "  </thead>\n",
       "  <tbody>\n",
       "    <tr>\n",
       "      <th>0</th>\n",
       "      <td>43.719115</td>\n",
       "      <td>-79.396629</td>\n",
       "      <td>0.857143</td>\n",
       "      <td>0.696429</td>\n",
       "      <td>0.017857</td>\n",
       "      <td>5.375000</td>\n",
       "      <td>1.053571</td>\n",
       "      <td>3.767857</td>\n",
       "      <td>9.625000</td>\n",
       "      <td>1.767857</td>\n",
       "      <td>8.375000</td>\n",
       "      <td>2.250000</td>\n",
       "    </tr>\n",
       "    <tr>\n",
       "      <th>1</th>\n",
       "      <td>43.652158</td>\n",
       "      <td>-79.388841</td>\n",
       "      <td>43.125000</td>\n",
       "      <td>29.250000</td>\n",
       "      <td>2.125000</td>\n",
       "      <td>49.062500</td>\n",
       "      <td>42.625000</td>\n",
       "      <td>41.687500</td>\n",
       "      <td>45.875000</td>\n",
       "      <td>38.937500</td>\n",
       "      <td>41.687500</td>\n",
       "      <td>31.625000</td>\n",
       "    </tr>\n",
       "    <tr>\n",
       "      <th>2</th>\n",
       "      <td>43.705472</td>\n",
       "      <td>-79.402390</td>\n",
       "      <td>8.677419</td>\n",
       "      <td>2.548387</td>\n",
       "      <td>0.064516</td>\n",
       "      <td>34.419355</td>\n",
       "      <td>7.612903</td>\n",
       "      <td>14.258065</td>\n",
       "      <td>33.774194</td>\n",
       "      <td>8.419355</td>\n",
       "      <td>36.290323</td>\n",
       "      <td>6.806452</td>\n",
       "    </tr>\n",
       "  </tbody>\n",
       "</table>\n",
       "</div>"
      ],
      "text/plain": [
       "          Latitude  Longitude  Arts & Entertainment  College & University  \\\n",
       "cluster                                                                     \n",
       "0        43.719115 -79.396629              0.857143              0.696429   \n",
       "1        43.652158 -79.388841             43.125000             29.250000   \n",
       "2        43.705472 -79.402390              8.677419              2.548387   \n",
       "\n",
       "            Event       Food  Nightlife Spot  Outdoors & Recreation  \\\n",
       "cluster                                                               \n",
       "0        0.017857   5.375000        1.053571               3.767857   \n",
       "1        2.125000  49.062500       42.625000              41.687500   \n",
       "2        0.064516  34.419355        7.612903              14.258065   \n",
       "\n",
       "         Professional & Other Places  Residence  Shop & Service  \\\n",
       "cluster                                                           \n",
       "0                           9.625000   1.767857        8.375000   \n",
       "1                          45.875000  38.937500       41.687500   \n",
       "2                          33.774194   8.419355       36.290323   \n",
       "\n",
       "         Travel & Transport  \n",
       "cluster                      \n",
       "0                  2.250000  \n",
       "1                 31.625000  \n",
       "2                  6.806452  "
      ]
     },
     "execution_count": 50,
     "metadata": {},
     "output_type": "execute_result"
    }
   ],
   "source": [
    "toronto_filled.groupby('cluster').mean()"
   ]
  },
  {
   "cell_type": "markdown",
   "metadata": {},
   "source": [
    "<h2>Defining the 3 clusters</h2>\n",
    "<p>We can notice the neighborhoods are clustered in 3 groups wich can be defined as:</p>\n",
    "<b><p>Calm, boring, bad public transport Neighborhood </p></b>\n",
    "<b><p>Diverse, busy, good public transport Neighborhood </p></b>\n",
    "<b><p>Diverse, Professional, reasonable public transport Neighborhood </p></b>"
   ]
  },
  {
   "cell_type": "code",
   "execution_count": 111,
   "metadata": {},
   "outputs": [],
   "source": [
    "mapa = folium.Map(location=[43.73,-79.35], zoom_start = 11) \n",
    "\n",
    "for index,cluster in toronto_filled.iterrows():\n",
    "    if cluster[15] == 1:\n",
    "        folium.Marker(location=[cluster[3],cluster[4]], popup=str(cluster[15]), icon=folium.Icon(color='red')).add_to(mapa)\n",
    "    elif cluster[15] == 2:\n",
    "        folium.Marker(location=[cluster[3],cluster[4]], popup=str(cluster[15]), icon=folium.Icon(color='orange')).add_to(mapa)    \n",
    "    else:\n",
    "        folium.Marker(location=[cluster[3],cluster[4]], popup=str(cluster[15]), icon=folium.Icon(color='blue')).add_to(mapa)\n"
   ]
  },
  {
   "cell_type": "markdown",
   "metadata": {},
   "source": [
    "<h2>Visualizing The distribuition of clusters throughout the city of Toronto</h2>\n",
    "<p>I am colouring the Neighborhoods based on their clusters </p>\n",
    "<b><p>Cluster 0 - BLUE </p></b>\n",
    "<b><p>Cluster 1 - RED</p></b>\n",
    "<b><p>Cluster 2 - ORANGE</p></b>"
   ]
  },
  {
   "cell_type": "code",
   "execution_count": 112,
   "metadata": {},
   "outputs": [
    {
     "data": {
      "text/html": [
       "<div style=\"width:100%;\"><div style=\"position:relative;width:100%;height:0;padding-bottom:60%;\"><span style=\"color:#565656\">Make this Notebook Trusted to load map: File -> Trust Notebook</span><iframe src=\"about:blank\" style=\"position:absolute;width:100%;height:100%;left:0;top:0;border:none !important;\" data-html=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 onload=\"this.contentDocument.open();this.contentDocument.write(atob(this.getAttribute('data-html')));this.contentDocument.close();\" allowfullscreen webkitallowfullscreen mozallowfullscreen></iframe></div></div>"
      ],
      "text/plain": [
       "<folium.folium.Map at 0x7fbc601a1b00>"
      ]
     },
     "execution_count": 112,
     "metadata": {},
     "output_type": "execute_result"
    }
   ],
   "source": [
    "mapa"
   ]
  },
  {
   "cell_type": "markdown",
   "metadata": {},
   "source": [
    "<h2>Conclusions</h2>\n",
    "<p>It's very clear that the most busy neighborhoods with many shops are located in the heart of Toronto, although we also see calm and quiet neighborhoods with bad public transport nearby very close to busy ones.</p>\n",
    "<p>Now you can use this interactive map to find a new home in a neighborhood that fits better for you, or if you are looking to open a shop we can also use it.</p>\n",
    "\n",
    "<p>Thanks for reading this project!</p>\n",
    "<b><p>Author: Christian Fuin</p></b>"
   ]
  }
 ],
 "metadata": {
  "kernelspec": {
   "display_name": "Python 3",
   "language": "python",
   "name": "python3"
  },
  "language_info": {
   "codemirror_mode": {
    "name": "ipython",
    "version": 3
   },
   "file_extension": ".py",
   "mimetype": "text/x-python",
   "name": "python",
   "nbconvert_exporter": "python",
   "pygments_lexer": "ipython3",
   "version": "3.8.2"
  }
 },
 "nbformat": 4,
 "nbformat_minor": 4
}
